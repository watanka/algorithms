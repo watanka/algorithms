{
 "cells": [
  {
   "cell_type": "code",
   "execution_count": 54,
   "metadata": {},
   "outputs": [],
   "source": [
    "import math\n",
    "\n",
    "def solution(s):\n",
    "    answer = math.inf\n",
    "    \n",
    "    alphabet = ''\n",
    "    sizes = range(1, len(s)//2+2)\n",
    "    for size in sizes : \n",
    "        alphabet = []\n",
    "        for idx in range(0, len(s), size ) :\n",
    "            alphabet.append( s[idx:idx + size])\n",
    "        zip_str = ''\n",
    "        num_iter = 1\n",
    "        target_char = alphabet.pop(0)\n",
    "        while alphabet :\n",
    "            next_char = alphabet.pop(0)\n",
    "            if target_char ==  next_char :\n",
    "                num_iter += 1\n",
    "            else :\n",
    "                zip_str += (str(num_iter) + target_char) if num_iter != 1 else target_char\n",
    "                num_iter = 1\n",
    "            target_char = next_char\n",
    "        zip_str += (str(num_iter) + target_char) if num_iter != 1 else target_char\n",
    "        print(zip_str)\n",
    "        answer = min(answer, len(zip_str))\n",
    "            \n",
    "    \n",
    "    return answer"
   ]
  },
  {
   "cell_type": "code",
   "execution_count": 55,
   "metadata": {},
   "outputs": [],
   "source": [
    "# solution(\"aabbaccc\")"
   ]
  },
  {
   "cell_type": "code",
   "execution_count": 56,
   "metadata": {},
   "outputs": [
    {
     "name": "stdout",
     "output_type": "stream",
     "text": [
      "ababcdcdababcdcd\n",
      "2ab2cd2ab2cd\n",
      "ababcdcdababcdcd\n",
      "ababcdcdababcdcd\n",
      "ababcdcdababcdcd\n",
      "ababcdcdababcdcd\n",
      "ababcdcdababcdcd\n",
      "2ababcdcd\n",
      "ababcdcdababcdcd\n"
     ]
    },
    {
     "data": {
      "text/plain": [
       "9"
      ]
     },
     "execution_count": 56,
     "metadata": {},
     "output_type": "execute_result"
    }
   ],
   "source": [
    "solution(\"ababcdcdababcdcd\")"
   ]
  },
  {
   "cell_type": "code",
   "execution_count": 57,
   "metadata": {},
   "outputs": [],
   "source": [
    "def solution(p):\n",
    "    def divide_check(str) :\n",
    "        correct = True\n",
    "        mystack = []\n",
    "        left = 0\n",
    "        right = 0\n",
    "        for i in range(len(str)) :\n",
    "            if str[i] == '(' :\n",
    "                left += 1\n",
    "                mystack.append('(')\n",
    "            else :\n",
    "                right += 1\n",
    "                if len(mystack) == 0:\n",
    "                    correct = False\n",
    "                else :\n",
    "                    mystack.pop()\n",
    "            if left == right :   \n",
    "                return i+1, correct\n",
    "        return 0, False\n",
    "    \n",
    "    pos, correct = divide_check(p)\n",
    "    u = p[:pos] \n",
    "    v = p[pos:]\n",
    "    \n",
    "    if correct :\n",
    "        return u + solution(v)\n",
    "    \n",
    "    answer = '(' + solution(v) + ')'\n",
    "\n",
    "    for i in range(1, len(u) - 1 ) :\n",
    "        if u[i] == '(' :\n",
    "            answer += ')'\n",
    "        else :\n",
    "            answer += '('\n",
    "    return answer"
   ]
  },
  {
   "cell_type": "code",
   "execution_count": 58,
   "metadata": {},
   "outputs": [
    {
     "ename": "RecursionError",
     "evalue": "maximum recursion depth exceeded while calling a Python object",
     "output_type": "error",
     "traceback": [
      "\u001b[0;31m---------------------------------------------------------------------------\u001b[0m",
      "\u001b[0;31mRecursionError\u001b[0m                            Traceback (most recent call last)",
      "\u001b[0;32m/var/folders/g3/glr70r5n6z5gjn30xdr24fhc0000gn/T/ipykernel_39825/621828248.py\u001b[0m in \u001b[0;36m<module>\u001b[0;34m\u001b[0m\n\u001b[0;32m----> 1\u001b[0;31m \u001b[0msolution\u001b[0m\u001b[0;34m(\u001b[0m\u001b[0;34m\"(()())()\"\u001b[0m     \u001b[0;34m)\u001b[0m\u001b[0;34m\u001b[0m\u001b[0;34m\u001b[0m\u001b[0m\n\u001b[0m",
      "\u001b[0;32m/var/folders/g3/glr70r5n6z5gjn30xdr24fhc0000gn/T/ipykernel_39825/559839497.py\u001b[0m in \u001b[0;36msolution\u001b[0;34m(p)\u001b[0m\n\u001b[1;32m     24\u001b[0m \u001b[0;34m\u001b[0m\u001b[0m\n\u001b[1;32m     25\u001b[0m     \u001b[0;32mif\u001b[0m \u001b[0mcorrect\u001b[0m \u001b[0;34m:\u001b[0m\u001b[0;34m\u001b[0m\u001b[0;34m\u001b[0m\u001b[0m\n\u001b[0;32m---> 26\u001b[0;31m         \u001b[0;32mreturn\u001b[0m \u001b[0mu\u001b[0m \u001b[0;34m+\u001b[0m \u001b[0msolution\u001b[0m\u001b[0;34m(\u001b[0m\u001b[0mv\u001b[0m\u001b[0;34m)\u001b[0m\u001b[0;34m\u001b[0m\u001b[0;34m\u001b[0m\u001b[0m\n\u001b[0m\u001b[1;32m     27\u001b[0m \u001b[0;34m\u001b[0m\u001b[0m\n\u001b[1;32m     28\u001b[0m     \u001b[0manswer\u001b[0m \u001b[0;34m=\u001b[0m \u001b[0;34m'('\u001b[0m \u001b[0;34m+\u001b[0m \u001b[0msolution\u001b[0m\u001b[0;34m(\u001b[0m\u001b[0mv\u001b[0m\u001b[0;34m)\u001b[0m \u001b[0;34m+\u001b[0m \u001b[0;34m')'\u001b[0m\u001b[0;34m\u001b[0m\u001b[0;34m\u001b[0m\u001b[0m\n",
      "\u001b[0;32m/var/folders/g3/glr70r5n6z5gjn30xdr24fhc0000gn/T/ipykernel_39825/559839497.py\u001b[0m in \u001b[0;36msolution\u001b[0;34m(p)\u001b[0m\n\u001b[1;32m     24\u001b[0m \u001b[0;34m\u001b[0m\u001b[0m\n\u001b[1;32m     25\u001b[0m     \u001b[0;32mif\u001b[0m \u001b[0mcorrect\u001b[0m \u001b[0;34m:\u001b[0m\u001b[0;34m\u001b[0m\u001b[0;34m\u001b[0m\u001b[0m\n\u001b[0;32m---> 26\u001b[0;31m         \u001b[0;32mreturn\u001b[0m \u001b[0mu\u001b[0m \u001b[0;34m+\u001b[0m \u001b[0msolution\u001b[0m\u001b[0;34m(\u001b[0m\u001b[0mv\u001b[0m\u001b[0;34m)\u001b[0m\u001b[0;34m\u001b[0m\u001b[0;34m\u001b[0m\u001b[0m\n\u001b[0m\u001b[1;32m     27\u001b[0m \u001b[0;34m\u001b[0m\u001b[0m\n\u001b[1;32m     28\u001b[0m     \u001b[0manswer\u001b[0m \u001b[0;34m=\u001b[0m \u001b[0;34m'('\u001b[0m \u001b[0;34m+\u001b[0m \u001b[0msolution\u001b[0m\u001b[0;34m(\u001b[0m\u001b[0mv\u001b[0m\u001b[0;34m)\u001b[0m \u001b[0;34m+\u001b[0m \u001b[0;34m')'\u001b[0m\u001b[0;34m\u001b[0m\u001b[0;34m\u001b[0m\u001b[0m\n",
      "\u001b[0;32m/var/folders/g3/glr70r5n6z5gjn30xdr24fhc0000gn/T/ipykernel_39825/559839497.py\u001b[0m in \u001b[0;36msolution\u001b[0;34m(p)\u001b[0m\n\u001b[1;32m     26\u001b[0m         \u001b[0;32mreturn\u001b[0m \u001b[0mu\u001b[0m \u001b[0;34m+\u001b[0m \u001b[0msolution\u001b[0m\u001b[0;34m(\u001b[0m\u001b[0mv\u001b[0m\u001b[0;34m)\u001b[0m\u001b[0;34m\u001b[0m\u001b[0;34m\u001b[0m\u001b[0m\n\u001b[1;32m     27\u001b[0m \u001b[0;34m\u001b[0m\u001b[0m\n\u001b[0;32m---> 28\u001b[0;31m     \u001b[0manswer\u001b[0m \u001b[0;34m=\u001b[0m \u001b[0;34m'('\u001b[0m \u001b[0;34m+\u001b[0m \u001b[0msolution\u001b[0m\u001b[0;34m(\u001b[0m\u001b[0mv\u001b[0m\u001b[0;34m)\u001b[0m \u001b[0;34m+\u001b[0m \u001b[0;34m')'\u001b[0m\u001b[0;34m\u001b[0m\u001b[0;34m\u001b[0m\u001b[0m\n\u001b[0m\u001b[1;32m     29\u001b[0m \u001b[0;34m\u001b[0m\u001b[0m\n\u001b[1;32m     30\u001b[0m     \u001b[0;32mfor\u001b[0m \u001b[0mi\u001b[0m \u001b[0;32min\u001b[0m \u001b[0mrange\u001b[0m\u001b[0;34m(\u001b[0m\u001b[0;36m1\u001b[0m\u001b[0;34m,\u001b[0m \u001b[0mlen\u001b[0m\u001b[0;34m(\u001b[0m\u001b[0mu\u001b[0m\u001b[0;34m)\u001b[0m \u001b[0;34m-\u001b[0m \u001b[0;36m1\u001b[0m \u001b[0;34m)\u001b[0m \u001b[0;34m:\u001b[0m\u001b[0;34m\u001b[0m\u001b[0;34m\u001b[0m\u001b[0m\n",
      "... last 1 frames repeated, from the frame below ...\n",
      "\u001b[0;32m/var/folders/g3/glr70r5n6z5gjn30xdr24fhc0000gn/T/ipykernel_39825/559839497.py\u001b[0m in \u001b[0;36msolution\u001b[0;34m(p)\u001b[0m\n\u001b[1;32m     26\u001b[0m         \u001b[0;32mreturn\u001b[0m \u001b[0mu\u001b[0m \u001b[0;34m+\u001b[0m \u001b[0msolution\u001b[0m\u001b[0;34m(\u001b[0m\u001b[0mv\u001b[0m\u001b[0;34m)\u001b[0m\u001b[0;34m\u001b[0m\u001b[0;34m\u001b[0m\u001b[0m\n\u001b[1;32m     27\u001b[0m \u001b[0;34m\u001b[0m\u001b[0m\n\u001b[0;32m---> 28\u001b[0;31m     \u001b[0manswer\u001b[0m \u001b[0;34m=\u001b[0m \u001b[0;34m'('\u001b[0m \u001b[0;34m+\u001b[0m \u001b[0msolution\u001b[0m\u001b[0;34m(\u001b[0m\u001b[0mv\u001b[0m\u001b[0;34m)\u001b[0m \u001b[0;34m+\u001b[0m \u001b[0;34m')'\u001b[0m\u001b[0;34m\u001b[0m\u001b[0;34m\u001b[0m\u001b[0m\n\u001b[0m\u001b[1;32m     29\u001b[0m \u001b[0;34m\u001b[0m\u001b[0m\n\u001b[1;32m     30\u001b[0m     \u001b[0;32mfor\u001b[0m \u001b[0mi\u001b[0m \u001b[0;32min\u001b[0m \u001b[0mrange\u001b[0m\u001b[0;34m(\u001b[0m\u001b[0;36m1\u001b[0m\u001b[0;34m,\u001b[0m \u001b[0mlen\u001b[0m\u001b[0;34m(\u001b[0m\u001b[0mu\u001b[0m\u001b[0;34m)\u001b[0m \u001b[0;34m-\u001b[0m \u001b[0;36m1\u001b[0m \u001b[0;34m)\u001b[0m \u001b[0;34m:\u001b[0m\u001b[0;34m\u001b[0m\u001b[0;34m\u001b[0m\u001b[0m\n",
      "\u001b[0;31mRecursionError\u001b[0m: maximum recursion depth exceeded while calling a Python object"
     ]
    }
   ],
   "source": [
    "solution(\"(()())()\"\t)"
   ]
  },
  {
   "cell_type": "code",
   "execution_count": 59,
   "metadata": {},
   "outputs": [],
   "source": [
    "graph = {\n",
    "    1 : [2,3,4],\n",
    "    2 : [5],\n",
    "    3 : [5],\n",
    "    4 : [],\n",
    "    5 : [6,7],\n",
    "    6 : [],\n",
    "    7 : [3]\n",
    "}"
   ]
  },
  {
   "cell_type": "code",
   "execution_count": 69,
   "metadata": {},
   "outputs": [],
   "source": [
    "def dfs_recursive(v, discovered = []) :\n",
    "    discovered.append(v)\n",
    "\n",
    "    for w in graph[v] :\n",
    "        if w not in discovered :\n",
    "            discovered = dfs_recursive(w, discovered)\n",
    "    return discovered"
   ]
  },
  {
   "cell_type": "code",
   "execution_count": 77,
   "metadata": {},
   "outputs": [],
   "source": [
    "def dfs_iterative( start_v) :\n",
    "    discovered = []\n",
    "    stack = [start_v]\n",
    "\n",
    "    while stack :\n",
    "        v = stack.pop()\n",
    "        if v not in discovered :\n",
    "            discovered.append(v)\n",
    "            for w in graph[v] :\n",
    "                stack.append(w)\n",
    "    return discovered\n",
    "\n"
   ]
  },
  {
   "cell_type": "code",
   "execution_count": 78,
   "metadata": {},
   "outputs": [
    {
     "data": {
      "text/plain": [
       "[1, 4, 3, 5, 7, 6, 2]"
      ]
     },
     "execution_count": 78,
     "metadata": {},
     "output_type": "execute_result"
    }
   ],
   "source": [
    "dfs_iterative(1)"
   ]
  },
  {
   "cell_type": "code",
   "execution_count": 83,
   "metadata": {},
   "outputs": [],
   "source": [
    "def recursive_dfs(v, discovered = []) :\n",
    "    discovered.append(v)\n",
    "    \n",
    "    for w in graph[v] :\n",
    "        if w not in discovered :\n",
    "            discovered = recursive_dfs(w, discovered)\n",
    "    return discovered\n",
    "\n",
    "def iterative_dfs(start_v) :\n",
    "    stack = [start_v] \n",
    "    discovered = []\n",
    "\n",
    "    while stack :\n",
    "        v = stack.pop()\n",
    "        if v not in discovered :\n",
    "            discovered.append(v)\n",
    "            for w in graph[v] :\n",
    "                stack.append(w)\n",
    "    return discovered"
   ]
  },
  {
   "cell_type": "code",
   "execution_count": 84,
   "metadata": {},
   "outputs": [
    {
     "data": {
      "text/plain": [
       "[1, 4, 3, 5, 7, 6, 2]"
      ]
     },
     "execution_count": 84,
     "metadata": {},
     "output_type": "execute_result"
    }
   ],
   "source": [
    "iterative_dfs(1)"
   ]
  },
  {
   "cell_type": "code",
   "execution_count": 89,
   "metadata": {},
   "outputs": [],
   "source": [
    "def bfs(start_v) :\n",
    "    discovered = [start_v]\n",
    "    queue = [start_v]\n",
    "\n",
    "    while queue :\n",
    "        v = queue.pop(0)\n",
    "        for w in graph[v] :\n",
    "            if w not in discovered :\n",
    "                discovered.append(w)\n",
    "                queue.append(w)\n",
    "    return discovered"
   ]
  },
  {
   "cell_type": "code",
   "execution_count": 90,
   "metadata": {},
   "outputs": [
    {
     "data": {
      "text/plain": [
       "[1, 2, 3, 4, 5, 6, 7]"
      ]
     },
     "execution_count": 90,
     "metadata": {},
     "output_type": "execute_result"
    }
   ],
   "source": [
    "\n",
    "bfs(1)"
   ]
  },
  {
   "cell_type": "code",
   "execution_count": 117,
   "metadata": {},
   "outputs": [
    {
     "name": "stdout",
     "output_type": "stream",
     "text": [
      "[['1', '1', '1', '1', '0'], ['1', '1', '0', '1', '0'], ['1', '1', '0', '0', '0'], ['0', '0', '0', '0', '0']]\n"
     ]
    }
   ],
   "source": [
    "# 1을 육지로, 0을 물로 가정한 2D 그리드맵이 주어졌을 때, 섬의 개수를 계산하라.\n",
    "\n",
    "inp = ['11110',\n",
    "       '11010',\n",
    "       '11000',\n",
    "       '00000']\n",
    "\n",
    "inp = [list(i) for i in inp]\n",
    "print(inp)"
   ]
  },
  {
   "cell_type": "code",
   "execution_count": 120,
   "metadata": {},
   "outputs": [],
   "source": [
    "def numIslands(grid) :\n",
    "    def dfs(grid, i, j) :\n",
    "        if i < 0 or i >= len(grid) or \\\n",
    "            j < 0 or j >= len(grid[0]) or grid[i][j] == '0' :\n",
    "            return\n",
    "\n",
    "        grid[i][j] = '0'\n",
    "\n",
    "        dfs(grid, i - 1, j)\n",
    "        dfs(grid, i + 1, j)\n",
    "        dfs(grid, i, j - 1)\n",
    "        dfs(grid, i, j + 1)\n",
    "    \n",
    "    if not grid :\n",
    "        return 0\n",
    "    \n",
    "    count = 0 \n",
    "\n",
    "    for i in range(len(grid)) :\n",
    "        for j in range(len(grid[0])) :\n",
    "            if grid[i][j] == '1' :\n",
    "                dfs(grid, i, j)\n",
    "                count += 1\n",
    "    return count\n",
    "\n",
    "    "
   ]
  },
  {
   "cell_type": "code",
   "execution_count": 123,
   "metadata": {},
   "outputs": [
    {
     "data": {
      "text/plain": [
       "[(1, 2, 3), (1, 3, 2), (2, 1, 3), (2, 3, 1), (3, 1, 2), (3, 2, 1)]"
      ]
     },
     "execution_count": 123,
     "metadata": {},
     "output_type": "execute_result"
    }
   ],
   "source": [
    "from itertools import combinations, permutations\n",
    "\n",
    "list(permutations([1,2,3]))\n"
   ]
  },
  {
   "cell_type": "code",
   "execution_count": 132,
   "metadata": {},
   "outputs": [
    {
     "data": {
      "text/plain": [
       "[1, 2, 3]"
      ]
     },
     "execution_count": 132,
     "metadata": {},
     "output_type": "execute_result"
    }
   ],
   "source": []
  },
  {
   "cell_type": "code",
   "execution_count": 137,
   "metadata": {},
   "outputs": [
    {
     "data": {
      "text/plain": [
       "4"
      ]
     },
     "execution_count": 137,
     "metadata": {},
     "output_type": "execute_result"
    }
   ],
   "source": [
    "from bisect import bisect_right\n",
    "\n",
    "bisect_right([1,2,3,4,5,6,7,9,10], 4)\n",
    "\n"
   ]
  },
  {
   "cell_type": "code",
   "execution_count": 142,
   "metadata": {},
   "outputs": [
    {
     "data": {
      "text/plain": [
       "True"
      ]
     },
     "execution_count": 142,
     "metadata": {},
     "output_type": "execute_result"
    }
   ],
   "source": [
    "set((1,2,3)).issubset(set((1,2,3,4,)))"
   ]
  },
  {
   "cell_type": "code",
   "execution_count": 144,
   "metadata": {},
   "outputs": [
    {
     "name": "stdout",
     "output_type": "stream",
     "text": [
      "hi\n"
     ]
    }
   ],
   "source": [
    "\n",
    "A A B C D D\n",
    "a f z z \n",
    "0 9 1 2 1\n",
    "a 8 E W g 6\n",
    "P 5 h 3 k x"
   ]
  },
  {
   "cell_type": "code",
   "execution_count": 155,
   "metadata": {},
   "outputs": [
    {
     "name": "stdout",
     "output_type": "stream",
     "text": [
      "[['A', 'A', 'B', 'C', 'D', 'D'], ['a', 'f', 'z', 'z', '', ''], ['0', '9', '1', '2', '1', ''], ['a', '8', 'E', 'W', 'g', '6'], ['P', '5', 'h', '3', 'k', 'x']]\n"
     ]
    }
   ],
   "source": [
    "import sys\n",
    "\n",
    "inputs = sys.stdin.readline().rstrip()\n",
    "inputs = ['AABCDD', 'afzz', '09121', 'a8EWg6', 'P5h3kx']\n",
    "\n",
    "data = [list(inp) for inp in inputs]\n",
    "\n",
    "length = max([len(d) for d in data])\n",
    "\n",
    "for d in data :\n",
    "    for i in range((length - len(d))) :\n",
    "        d.append('')\n",
    "print(data)\n",
    "\n",
    "answer = ''\n",
    "for j in range(len(data[0])) :\n",
    "    answer += ''.join([data[i][j] for i in range(len(data))] )\n",
    "        \n",
    "\n",
    "\n"
   ]
  },
  {
   "cell_type": "code",
   "execution_count": 156,
   "metadata": {},
   "outputs": [
    {
     "data": {
      "text/plain": [
       "'Aa0aPAf985Bz1EhCz2W3D1gkD6x'"
      ]
     },
     "execution_count": 156,
     "metadata": {},
     "output_type": "execute_result"
    }
   ],
   "source": [
    "answer\n"
   ]
  },
  {
   "cell_type": "markdown",
   "metadata": {},
   "source": [
    "우리나라 고유의 윷놀이는 네 개의 윷짝을 던져서 배(0)와 등(1)이 나오는 숫자를 세어 도, 개, 걸, 윷, 모를 결정한다. 네 개 윷짝을 던져서 나온 각 윷짝의 배 혹은 등 정보가 주어질 때 도(배 한 개, 등 세 개), 개(배 두 개, 등 두 개), 걸(배 세 개, 등 한 개), 윷(배 네 개), 모(등 네 개) 중 어떤 것인지를 결정하는 프로그램을 작성하라."
   ]
  },
  {
   "cell_type": "code",
   "execution_count": 158,
   "metadata": {},
   "outputs": [
    {
     "ename": "KeyboardInterrupt",
     "evalue": "Interrupted by user",
     "output_type": "error",
     "traceback": [
      "\u001b[0;31m---------------------------------------------------------------------------\u001b[0m",
      "\u001b[0;31mKeyboardInterrupt\u001b[0m                         Traceback (most recent call last)",
      "\u001b[0;32m/var/folders/g3/glr70r5n6z5gjn30xdr24fhc0000gn/T/ipykernel_39825/826259236.py\u001b[0m in \u001b[0;36m<module>\u001b[0;34m\u001b[0m\n\u001b[0;32m----> 1\u001b[0;31m \u001b[0mdata\u001b[0m \u001b[0;34m=\u001b[0m \u001b[0;34m[\u001b[0m\u001b[0minput\u001b[0m\u001b[0;34m(\u001b[0m\u001b[0;34m)\u001b[0m\u001b[0;34m.\u001b[0m\u001b[0msplit\u001b[0m\u001b[0;34m(\u001b[0m\u001b[0;34m)\u001b[0m \u001b[0;32mfor\u001b[0m \u001b[0mi\u001b[0m \u001b[0;32min\u001b[0m \u001b[0mrange\u001b[0m\u001b[0;34m(\u001b[0m\u001b[0;36m4\u001b[0m\u001b[0;34m)\u001b[0m\u001b[0;34m]\u001b[0m\u001b[0;34m\u001b[0m\u001b[0;34m\u001b[0m\u001b[0m\n\u001b[0m\u001b[1;32m      2\u001b[0m \u001b[0mdata\u001b[0m \u001b[0;34m=\u001b[0m \u001b[0;34m[\u001b[0m\u001b[0;34m[\u001b[0m\u001b[0;36m0\u001b[0m\u001b[0;34m,\u001b[0m \u001b[0;36m1\u001b[0m\u001b[0;34m,\u001b[0m \u001b[0;36m0\u001b[0m\u001b[0;34m,\u001b[0m \u001b[0;36m1\u001b[0m\u001b[0;34m]\u001b[0m\u001b[0;34m,\u001b[0m \u001b[0;34m[\u001b[0m\u001b[0;36m1\u001b[0m\u001b[0;34m,\u001b[0m \u001b[0;36m1\u001b[0m\u001b[0;34m,\u001b[0m \u001b[0;36m1\u001b[0m\u001b[0;34m,\u001b[0m \u001b[0;36m0\u001b[0m\u001b[0;34m]\u001b[0m\u001b[0;34m,\u001b[0m \u001b[0;34m[\u001b[0m\u001b[0;36m0\u001b[0m\u001b[0;34m,\u001b[0m \u001b[0;36m0\u001b[0m\u001b[0;34m,\u001b[0m \u001b[0;36m1\u001b[0m\u001b[0;34m,\u001b[0m \u001b[0;36m1\u001b[0m\u001b[0;34m]\u001b[0m\u001b[0;34m]\u001b[0m\u001b[0;34m\u001b[0m\u001b[0;34m\u001b[0m\u001b[0m\n\u001b[1;32m      3\u001b[0m \u001b[0mdata\u001b[0m \u001b[0;34m=\u001b[0m \u001b[0;34m[\u001b[0m\u001b[0mmap\u001b[0m\u001b[0;34m(\u001b[0m\u001b[0mint\u001b[0m\u001b[0;34m,\u001b[0m \u001b[0md\u001b[0m\u001b[0;34m)\u001b[0m \u001b[0;32mfor\u001b[0m \u001b[0md\u001b[0m \u001b[0;32min\u001b[0m \u001b[0mdata\u001b[0m\u001b[0;34m]\u001b[0m\u001b[0;34m\u001b[0m\u001b[0;34m\u001b[0m\u001b[0m\n\u001b[1;32m      4\u001b[0m \u001b[0;34m\u001b[0m\u001b[0m\n\u001b[1;32m      5\u001b[0m \u001b[0;32mdef\u001b[0m \u001b[0msolution\u001b[0m\u001b[0;34m(\u001b[0m\u001b[0mdata\u001b[0m\u001b[0;34m)\u001b[0m \u001b[0;34m:\u001b[0m\u001b[0;34m\u001b[0m\u001b[0;34m\u001b[0m\u001b[0m\n",
      "\u001b[0;32m/var/folders/g3/glr70r5n6z5gjn30xdr24fhc0000gn/T/ipykernel_39825/826259236.py\u001b[0m in \u001b[0;36m<listcomp>\u001b[0;34m(.0)\u001b[0m\n\u001b[0;32m----> 1\u001b[0;31m \u001b[0mdata\u001b[0m \u001b[0;34m=\u001b[0m \u001b[0;34m[\u001b[0m\u001b[0minput\u001b[0m\u001b[0;34m(\u001b[0m\u001b[0;34m)\u001b[0m\u001b[0;34m.\u001b[0m\u001b[0msplit\u001b[0m\u001b[0;34m(\u001b[0m\u001b[0;34m)\u001b[0m \u001b[0;32mfor\u001b[0m \u001b[0mi\u001b[0m \u001b[0;32min\u001b[0m \u001b[0mrange\u001b[0m\u001b[0;34m(\u001b[0m\u001b[0;36m4\u001b[0m\u001b[0;34m)\u001b[0m\u001b[0;34m]\u001b[0m\u001b[0;34m\u001b[0m\u001b[0;34m\u001b[0m\u001b[0m\n\u001b[0m\u001b[1;32m      2\u001b[0m \u001b[0mdata\u001b[0m \u001b[0;34m=\u001b[0m \u001b[0;34m[\u001b[0m\u001b[0;34m[\u001b[0m\u001b[0;36m0\u001b[0m\u001b[0;34m,\u001b[0m \u001b[0;36m1\u001b[0m\u001b[0;34m,\u001b[0m \u001b[0;36m0\u001b[0m\u001b[0;34m,\u001b[0m \u001b[0;36m1\u001b[0m\u001b[0;34m]\u001b[0m\u001b[0;34m,\u001b[0m \u001b[0;34m[\u001b[0m\u001b[0;36m1\u001b[0m\u001b[0;34m,\u001b[0m \u001b[0;36m1\u001b[0m\u001b[0;34m,\u001b[0m \u001b[0;36m1\u001b[0m\u001b[0;34m,\u001b[0m \u001b[0;36m0\u001b[0m\u001b[0;34m]\u001b[0m\u001b[0;34m,\u001b[0m \u001b[0;34m[\u001b[0m\u001b[0;36m0\u001b[0m\u001b[0;34m,\u001b[0m \u001b[0;36m0\u001b[0m\u001b[0;34m,\u001b[0m \u001b[0;36m1\u001b[0m\u001b[0;34m,\u001b[0m \u001b[0;36m1\u001b[0m\u001b[0;34m]\u001b[0m\u001b[0;34m]\u001b[0m\u001b[0;34m\u001b[0m\u001b[0;34m\u001b[0m\u001b[0m\n\u001b[1;32m      3\u001b[0m \u001b[0mdata\u001b[0m \u001b[0;34m=\u001b[0m \u001b[0;34m[\u001b[0m\u001b[0mmap\u001b[0m\u001b[0;34m(\u001b[0m\u001b[0mint\u001b[0m\u001b[0;34m,\u001b[0m \u001b[0md\u001b[0m\u001b[0;34m)\u001b[0m \u001b[0;32mfor\u001b[0m \u001b[0md\u001b[0m \u001b[0;32min\u001b[0m \u001b[0mdata\u001b[0m\u001b[0;34m]\u001b[0m\u001b[0;34m\u001b[0m\u001b[0;34m\u001b[0m\u001b[0m\n\u001b[1;32m      4\u001b[0m \u001b[0;34m\u001b[0m\u001b[0m\n\u001b[1;32m      5\u001b[0m \u001b[0;32mdef\u001b[0m \u001b[0msolution\u001b[0m\u001b[0;34m(\u001b[0m\u001b[0mdata\u001b[0m\u001b[0;34m)\u001b[0m \u001b[0;34m:\u001b[0m\u001b[0;34m\u001b[0m\u001b[0;34m\u001b[0m\u001b[0m\n",
      "\u001b[0;32m/Library/Frameworks/Python.framework/Versions/3.10/lib/python3.10/site-packages/ipykernel/kernelbase.py\u001b[0m in \u001b[0;36mraw_input\u001b[0;34m(self, prompt)\u001b[0m\n\u001b[1;32m   1005\u001b[0m                 \u001b[0;34m\"raw_input was called, but this frontend does not support input requests.\"\u001b[0m\u001b[0;34m\u001b[0m\u001b[0;34m\u001b[0m\u001b[0m\n\u001b[1;32m   1006\u001b[0m             )\n\u001b[0;32m-> 1007\u001b[0;31m         return self._input_request(\n\u001b[0m\u001b[1;32m   1008\u001b[0m             \u001b[0mstr\u001b[0m\u001b[0;34m(\u001b[0m\u001b[0mprompt\u001b[0m\u001b[0;34m)\u001b[0m\u001b[0;34m,\u001b[0m\u001b[0;34m\u001b[0m\u001b[0;34m\u001b[0m\u001b[0m\n\u001b[1;32m   1009\u001b[0m             \u001b[0mself\u001b[0m\u001b[0;34m.\u001b[0m\u001b[0m_parent_ident\u001b[0m\u001b[0;34m[\u001b[0m\u001b[0;34m\"shell\"\u001b[0m\u001b[0;34m]\u001b[0m\u001b[0;34m,\u001b[0m\u001b[0;34m\u001b[0m\u001b[0;34m\u001b[0m\u001b[0m\n",
      "\u001b[0;32m/Library/Frameworks/Python.framework/Versions/3.10/lib/python3.10/site-packages/ipykernel/kernelbase.py\u001b[0m in \u001b[0;36m_input_request\u001b[0;34m(self, prompt, ident, parent, password)\u001b[0m\n\u001b[1;32m   1050\u001b[0m             \u001b[0;32mexcept\u001b[0m \u001b[0mKeyboardInterrupt\u001b[0m\u001b[0;34m:\u001b[0m\u001b[0;34m\u001b[0m\u001b[0;34m\u001b[0m\u001b[0m\n\u001b[1;32m   1051\u001b[0m                 \u001b[0;31m# re-raise KeyboardInterrupt, to truncate traceback\u001b[0m\u001b[0;34m\u001b[0m\u001b[0;34m\u001b[0m\u001b[0m\n\u001b[0;32m-> 1052\u001b[0;31m                 \u001b[0;32mraise\u001b[0m \u001b[0mKeyboardInterrupt\u001b[0m\u001b[0;34m(\u001b[0m\u001b[0;34m\"Interrupted by user\"\u001b[0m\u001b[0;34m)\u001b[0m \u001b[0;32mfrom\u001b[0m \u001b[0;32mNone\u001b[0m\u001b[0;34m\u001b[0m\u001b[0;34m\u001b[0m\u001b[0m\n\u001b[0m\u001b[1;32m   1053\u001b[0m             \u001b[0;32mexcept\u001b[0m \u001b[0mException\u001b[0m\u001b[0;34m:\u001b[0m\u001b[0;34m\u001b[0m\u001b[0;34m\u001b[0m\u001b[0m\n\u001b[1;32m   1054\u001b[0m                 \u001b[0mself\u001b[0m\u001b[0;34m.\u001b[0m\u001b[0mlog\u001b[0m\u001b[0;34m.\u001b[0m\u001b[0mwarning\u001b[0m\u001b[0;34m(\u001b[0m\u001b[0;34m\"Invalid Message:\"\u001b[0m\u001b[0;34m,\u001b[0m \u001b[0mexc_info\u001b[0m\u001b[0;34m=\u001b[0m\u001b[0;32mTrue\u001b[0m\u001b[0;34m)\u001b[0m\u001b[0;34m\u001b[0m\u001b[0;34m\u001b[0m\u001b[0m\n",
      "\u001b[0;31mKeyboardInterrupt\u001b[0m: Interrupted by user"
     ]
    }
   ],
   "source": [
    "data = [input().split() for i in range(4)]\n",
    "data = [[0, 1, 0, 1], [1, 1, 1, 0], [0, 0, 1, 1]]\n",
    "data = [map(int, d) for d in data]\n",
    "\n",
    "def solution(data) :\n",
    "    for d in data :\n",
    "        count_bae = d.count(0)\n",
    "        if count_bae == 1 :\n",
    "            print('A')\n",
    "        elif count_bae == 2 :\n",
    "            print('B')\n",
    "        elif count_bae == 3 :\n",
    "            print('C')\n",
    "        elif count_bae == 4 :\n",
    "            print('D')\n",
    "        else :\n",
    "            print('E')\n",
    "\n",
    "    \n",
    "\n"
   ]
  },
  {
   "cell_type": "markdown",
   "metadata": {},
   "source": [
    "상근이는 매일 아침 알람을 듣고 일어난다. 알람을 듣고 바로 일어나면 다행이겠지만, 항상 조금만 더 자려는 마음 때문에 매일 학교를 지각하고 있다.\n",
    "\n",
    "상근이는 모든 방법을 동원해보았지만, 조금만 더 자려는 마음은 그 어떤 것도 없앨 수가 없었다.\n",
    "\n",
    "이런 상근이를 불쌍하게 보던, 창영이는 자신이 사용하는 방법을 추천해 주었다.\n",
    "\n",
    "바로 \"45분 일찍 알람 설정하기\"이다.\n",
    "\n",
    "이 방법은 단순하다. 원래 설정되어 있는 알람을 45분 앞서는 시간으로 바꾸는 것이다. 어차피 알람 소리를 들으면, 알람을 끄고 조금 더 잘 것이기 때문이다. 이 방법을 사용하면, 매일 아침 더 잤다는 기분을 느낄 수 있고, 학교도 지각하지 않게 된다.\n",
    "\n",
    "현재 상근이가 설정한 알람 시각이 주어졌을 때, 창영이의 방법을 사용한다면, 이를 언제로 고쳐야 하는지 구하는 프로그램을 작성하시오.\n"
   ]
  },
  {
   "cell_type": "code",
   "execution_count": 167,
   "metadata": {},
   "outputs": [
    {
     "name": "stdout",
     "output_type": "stream",
     "text": [
      "23 25\n"
     ]
    }
   ],
   "source": [
    "import datetime\n",
    "\n",
    "\n",
    "# hour, minutes = input().split()\n",
    "hour = 00\n",
    "minutes = 10\n",
    "\n",
    "time = datetime.datetime.strptime('{}:{}'.format(hour, minutes), '%H:%M')\n",
    "interval = datetime.timedelta(minutes = 45)\n",
    "\n",
    "answer = time - interval\n",
    "\n",
    "print(answer.hour, answer.minute)\n"
   ]
  },
  {
   "cell_type": "markdown",
   "metadata": {},
   "source": [
    "개미가 일렬로 이동할 때, 가장 앞의 개미를 제외한 나머지 개미는 모두 앞에 개미가 한 마리씩 있다. \n",
    "\n",
    "서로 반대 방향으로 이동하던 두 개미 그룹이 좁은 길에서 만났을 때, 개미는 어떻게 지나갈까?\n",
    "\n",
    "최근 연구에 의하면 위와 같은 상황이 벌어지면 개미는 서로를 점프해서 넘어간다고 한다.\n",
    "\n",
    "즉, 두 그룹이 만났을 때, 1초에 한번씩 개미는 서로를 뛰어 넘는다. (한 개미가 다른 개미를 뛰어 넘고, 다른 개미는 그냥 전진한다고 생각해도 된다)\n",
    "\n",
    "하지만 모든 개미가 점프를 하는 것은 아니다. 자신의 앞에 반대 방향으로 움직이던 개미가 있는 경우에만 점프를 하게 된다.\n",
    "\n",
    "첫 번째 그룹이 ABC로 움직이고, 두 번째 그룹의 개미가 DEF순으로 움직인다고 하자. 그럼, 좁은 길에서 만났을 때, 개미의 순서는 CBADEF가 된다. 1초가 지났을 때는 자신의 앞에 반대방향으로 움직이는 개미가 있는 개미는 A와 D다. 따라서, 개미의 순서는 CBDAEF가 된다. 2초가 되었을 때, 자신의 앞에 반대 방향으로 움직이는 개미는 B,D,A,E가 있다. 따라서, 개미의 순서는 CDBEAF가 된다.\n",
    "\n",
    "T초가 지난 후에 개미의 순서를 구하는 프로그램을 작성하시오."
   ]
  },
  {
   "cell_type": "code",
   "execution_count": 186,
   "metadata": {},
   "outputs": [
    {
     "ename": "KeyboardInterrupt",
     "evalue": "",
     "output_type": "error",
     "traceback": [
      "\u001b[0;31m---------------------------------------------------------------------------\u001b[0m",
      "\u001b[0;31mKeyboardInterrupt\u001b[0m                         Traceback (most recent call last)",
      "\u001b[0;32m/var/folders/g3/glr70r5n6z5gjn30xdr24fhc0000gn/T/ipykernel_39825/257633824.py\u001b[0m in \u001b[0;36m<module>\u001b[0;34m\u001b[0m\n\u001b[1;32m     15\u001b[0m \u001b[0;32mwhile\u001b[0m \u001b[0;34m'10'\u001b[0m \u001b[0;32min\u001b[0m \u001b[0mstr\u001b[0m\u001b[0;34m(\u001b[0m\u001b[0;34m''\u001b[0m\u001b[0;34m.\u001b[0m\u001b[0mjoin\u001b[0m\u001b[0;34m(\u001b[0m\u001b[0mdirection\u001b[0m\u001b[0;34m)\u001b[0m\u001b[0;34m)\u001b[0m \u001b[0;32mor\u001b[0m \u001b[0mT\u001b[0m \u001b[0;34m!=\u001b[0m \u001b[0;36m0\u001b[0m \u001b[0;34m:\u001b[0m\u001b[0;34m\u001b[0m\u001b[0;34m\u001b[0m\u001b[0m\n\u001b[1;32m     16\u001b[0m     \u001b[0;32mfor\u001b[0m \u001b[0mi\u001b[0m \u001b[0;32min\u001b[0m \u001b[0mrange\u001b[0m\u001b[0;34m(\u001b[0m\u001b[0;36m0\u001b[0m\u001b[0;34m,\u001b[0m \u001b[0mlen\u001b[0m\u001b[0;34m(\u001b[0m\u001b[0mdirection\u001b[0m\u001b[0;34m)\u001b[0m \u001b[0;34m-\u001b[0m \u001b[0;36m1\u001b[0m\u001b[0;34m)\u001b[0m \u001b[0;34m:\u001b[0m\u001b[0;34m\u001b[0m\u001b[0;34m\u001b[0m\u001b[0m\n\u001b[0;32m---> 17\u001b[0;31m         \u001b[0;32mif\u001b[0m \u001b[0mdirection\u001b[0m\u001b[0;34m[\u001b[0m\u001b[0mi\u001b[0m\u001b[0;34m:\u001b[0m\u001b[0mi\u001b[0m\u001b[0;34m+\u001b[0m\u001b[0;36m2\u001b[0m\u001b[0;34m]\u001b[0m \u001b[0;34m==\u001b[0m \u001b[0;34m[\u001b[0m\u001b[0;34m'1'\u001b[0m\u001b[0;34m,\u001b[0m\u001b[0;34m'0'\u001b[0m\u001b[0;34m]\u001b[0m \u001b[0;34m:\u001b[0m\u001b[0;34m\u001b[0m\u001b[0;34m\u001b[0m\u001b[0m\n\u001b[0m\u001b[1;32m     18\u001b[0m             \u001b[0mdirection\u001b[0m\u001b[0;34m[\u001b[0m\u001b[0mi\u001b[0m\u001b[0;34m+\u001b[0m\u001b[0;36m1\u001b[0m\u001b[0;34m]\u001b[0m\u001b[0;34m,\u001b[0m \u001b[0mdirection\u001b[0m\u001b[0;34m[\u001b[0m\u001b[0mi\u001b[0m\u001b[0;34m]\u001b[0m \u001b[0;34m=\u001b[0m \u001b[0mdirection\u001b[0m\u001b[0;34m[\u001b[0m\u001b[0mi\u001b[0m\u001b[0;34m]\u001b[0m\u001b[0;34m,\u001b[0m \u001b[0mdirection\u001b[0m\u001b[0;34m[\u001b[0m\u001b[0mi\u001b[0m\u001b[0;34m+\u001b[0m\u001b[0;36m1\u001b[0m\u001b[0;34m]\u001b[0m\u001b[0;34m\u001b[0m\u001b[0;34m\u001b[0m\u001b[0m\n\u001b[1;32m     19\u001b[0m             \u001b[0mg\u001b[0m\u001b[0;34m[\u001b[0m\u001b[0mi\u001b[0m\u001b[0;34m+\u001b[0m\u001b[0;36m1\u001b[0m\u001b[0;34m]\u001b[0m\u001b[0;34m,\u001b[0m \u001b[0mg\u001b[0m\u001b[0;34m[\u001b[0m\u001b[0mi\u001b[0m\u001b[0;34m]\u001b[0m \u001b[0;34m=\u001b[0m \u001b[0mg\u001b[0m\u001b[0;34m[\u001b[0m\u001b[0mi\u001b[0m\u001b[0;34m]\u001b[0m\u001b[0;34m,\u001b[0m \u001b[0mg\u001b[0m\u001b[0;34m[\u001b[0m\u001b[0mi\u001b[0m\u001b[0;34m+\u001b[0m\u001b[0;36m1\u001b[0m\u001b[0;34m]\u001b[0m\u001b[0;34m\u001b[0m\u001b[0;34m\u001b[0m\u001b[0m\n",
      "\u001b[0;31mKeyboardInterrupt\u001b[0m: "
     ]
    }
   ],
   "source": [
    "# n1, n2 = input().split()\n",
    "# g1 = input().split()\n",
    "# g2 = input().split()\n",
    "# T = input().split()\n",
    "g1 = 'ABC'\n",
    "g2 = 'DEF'\n",
    "\n",
    "direction = ['1']*3+['0']*3\n",
    "\n",
    "g1 = g1[::-1]\n",
    "g = list(g1 + g2)\n",
    "\n",
    "T = 2\n",
    "\n",
    "while '10' in str(''.join(direction)) or T != 0 :\n",
    "    for i in range(0, len(direction) - 1) :\n",
    "        if direction[i:i+2] == ['1','0'] :\n",
    "            direction[i+1], direction[i] = direction[i], direction[i+1]\n",
    "            g[i+1], g[i] = g[i], g[i+1]\n",
    "            T -= 1\n",
    "\n",
    "\n",
    "        # print(direction)\n",
    "        # print(g)\n",
    "\n",
    "\n"
   ]
  },
  {
   "cell_type": "markdown",
   "metadata": {},
   "source": [
    "상근이는 트럭을 가지고 긴 일직선 도로를 운전하고 있다. 도로에는 신호등이 설치되어 있다. 상근이는 각 신호등에 대해서 빨간 불이 지속되는 시간과 초록 불이 지속되는 시간을 미리 구해왔다. (빨강색과 초록색 불빛은 무한히 반복된다)\n",
    "\n",
    "상근이의 트럭이 도로에 진입했을 때, 모든 신호등의 색상은 빨간색이고, 사이클이 막 시작한 상태이다. 상근이는 1초에 1미터를 움직인다. 신호등의 색상이 빨간색인 경우에는 그 자리에서 멈추고 초록색으로 바뀔때 까지 기다린다.\n",
    "\n",
    "상근이가 도로의 끝까지 이동하는데 걸리는 시간을 구하는 프로그램을 작성하시오. 도로의 시작은 0미터이고, 끝은 L미터인 지점이다."
   ]
  },
  {
   "cell_type": "code",
   "execution_count": 188,
   "metadata": {},
   "outputs": [],
   "source": [
    "num_signs , road = 2, 10\n",
    "pos1, red_interval1, green_interval1 = 3, 5, 5\n",
    "pos2, red_interval2, green_interval2 = 5, 2, 2"
   ]
  },
  {
   "cell_type": "code",
   "execution_count": 215,
   "metadata": {},
   "outputs": [
    {
     "data": {
      "text/plain": [
       "12"
      ]
     },
     "execution_count": 215,
     "metadata": {},
     "output_type": "execute_result"
    }
   ],
   "source": [
    "num_signs, road = input.split()\n",
    "travel_dist = 0\n",
    "total_time = 0\n",
    "\n",
    "sign_dic = {}\n",
    "for i in range(num_signs) :\n",
    "    pos, red_inteval, green_interval = input().split()\n",
    "    sign_status = total_time % (red_interval+green_interval) - red_interval\n",
    "    sign_dic[pos] = (red_interval, green_interval)\n",
    "        \n",
    "\n",
    "while travel_dist < road :\n",
    "    \n",
    "    if travel_dist in sign_dic :\n",
    "        red_interval, green_interval = sign_dic[travel_dist] \n",
    "        sign_status = total_time % (red_interval+green_interval) - red_interval\n",
    "        if sign_status < 0 :\n",
    "            total_time -= sign_status\n",
    "\n",
    "    # sign1_status = total_time % (red_interval1 + green_interval1) - red_interval1\n",
    "    # sign2_status = total_time % (red_interval2 + green_interval2) - red_interval2\n",
    "\n",
    "    # if travel_dist == pos1 and sign1_status < 0 :\n",
    "    #     total_time -= sign1_status\n",
    "\n",
    "    # if travel_dist == pos2 and sign2_status < 0 :\n",
    "    #     total_time -= sign2_status\n",
    "\n",
    "    travel_dist += 1\n",
    "    total_time += 1\n",
    "\n",
    "total_time\n"
   ]
  },
  {
   "cell_type": "code",
   "execution_count": 190,
   "metadata": {},
   "outputs": [
    {
     "data": {
      "text/plain": [
       "2"
      ]
     },
     "execution_count": 190,
     "metadata": {},
     "output_type": "execute_result"
    }
   ],
   "source": [
    "5 %3"
   ]
  },
  {
   "cell_type": "code",
   "execution_count": 212,
   "metadata": {},
   "outputs": [],
   "source": [
    "total_time = 10\n",
    "sign1_status = total_time % (red_interval1 + green_interval1) - red_interval1\n",
    "\n"
   ]
  },
  {
   "cell_type": "code",
   "execution_count": 226,
   "metadata": {},
   "outputs": [
    {
     "name": "stdout",
     "output_type": "stream",
     "text": [
      "36\n"
     ]
    }
   ],
   "source": [
    "# num_signs, road = input.split()\n",
    "travel_dist = 0\n",
    "total_time = 0\n",
    "\n",
    "sign_list = []\n",
    "for i in range(num_signs) :\n",
    "    pos, red_inteval, green_interval = input().split()\n",
    "    sign_list.append((pos, red_interval, green_interval))\n",
    "\n",
    "# sign_list = []\n",
    "# num_signs, road = 4, 30\n",
    "# sign_list.append( (7, 13, 5))\n",
    "# sign_list.append((14,4,4))\n",
    "# sign_list.append((14,4,4))\n",
    "# sign_list.append((15,3,10))\n",
    "# sign_list.append((25,1,1))\n",
    "\n",
    "\n",
    "while travel_dist < road :\n",
    "    \n",
    "    if travel_dist == sign_list[0][0] :\n",
    "        pos, red_interval, green_interval = sign_list[0]\n",
    "        sign_status = total_time % (red_interval+green_interval) - red_interval\n",
    "        if sign_status < 0 :\n",
    "            total_time -= sign_status\n",
    "        sign_list.pop(0)\n",
    "\n",
    "    travel_dist += 1\n",
    "    total_time += 1\n",
    "\n",
    "print(total_time)"
   ]
  },
  {
   "cell_type": "markdown",
   "metadata": {},
   "source": [
    "8*8크기의 체스판에 왕이 하나 있다. 킹의 현재 위치가 주어진다. 체스판에서 말의 위치는 다음과 같이 주어진다. 알파벳 하나와 숫자 하나로 이루어져 있는데, 알파벳은 열을 상징하고, 숫자는 행을 상징한다. 열은 가장 왼쪽 열이 A이고, 가장 오른쪽 열이 H까지 이고, 행은 가장 아래가 1이고 가장 위가 8이다. 예를 들어, 왼쪽 아래 코너는 A1이고, 그 오른쪽 칸은 B1이다.\n",
    "\n",
    "킹은 다음과 같이 움직일 수 있다.\n",
    "\n",
    "R : 한 칸 오른쪽으로\n",
    "L : 한 칸 왼쪽으로\n",
    "B : 한 칸 아래로\n",
    "T : 한 칸 위로\n",
    "RT : 오른쪽 위 대각선으로\n",
    "LT : 왼쪽 위 대각선으로\n",
    "RB : 오른쪽 아래 대각선으로\n",
    "LB : 왼쪽 아래 대각선으로"
   ]
  },
  {
   "cell_type": "code",
   "execution_count": 252,
   "metadata": {},
   "outputs": [
    {
     "name": "stdout",
     "output_type": "stream",
     "text": [
      "[1, 1] [1, 2]\n",
      "new x, y :  1 2\n",
      "[1, 2] [1, 3]\n",
      "new x, y :  2 2\n",
      "[2, 2] [1, 3]\n",
      "B2 A3\n"
     ]
    }
   ],
   "source": [
    "pos_k, pos_r, num_cmd = 'A1', 'A2', '2' #input.split()\n",
    "\n",
    "D = {'A' : 1, 'B' :2, 'C': 3, 'D': 4,'E': 5,'F': 6,'G': 7, 'H' : 8}\n",
    "inv_D = {v: k for k,v in D.items()}\n",
    "position_k = [D[pos_k[0]], int(pos_k[1])]\n",
    "position_r = [D[pos_r[0]], int(pos_r[1])]\n",
    "print(position_k, position_r)\n",
    "\n",
    "commands = ['T', 'R']\n",
    "for _ in range(int(num_cmd)) :\n",
    "    cmd = commands[_]#input()\n",
    "\n",
    "    if cmd == 'R' :\n",
    "        move = (1,0)\n",
    "    elif cmd == 'L' :\n",
    "        move = (-1,0)\n",
    "    elif cmd == 'T' :\n",
    "        move = (0,1)\n",
    "    elif cmd =='B' :\n",
    "        move = (0,-1)\n",
    "    elif cmd == 'RT' :\n",
    "        move = (1,1)\n",
    "    elif cmd =='RB' :\n",
    "        move = (1,-1)\n",
    "    elif cmd == 'LT' :\n",
    "        move = (-1, 1)\n",
    "    elif cmd == 'LB' :\n",
    "        move = (-1, -1)\n",
    "    \n",
    "    new_x, new_y = position_k[0] + move[0] , position_k[1] + move[1]\n",
    "    print('new x, y : ', new_x, new_y)\n",
    "    if new_x < 1 or new_y <1 or new_x > 8 or new_y > 8 :\n",
    "        continue\n",
    "\n",
    "    \n",
    "    if [new_x, new_y] == position_r :\n",
    "        rnew_x, rnew_y = position_r[0] + move[0] , position_r[1] + move[1]\n",
    "\n",
    "        if rnew_x < 1 or rnew_y < 1 or rnew_x > 8 or rnew_y > 8 :\n",
    "            continue\n",
    "        \n",
    "        position_r = [position_r[0] + move[0] , position_r[1] + move[1]]\n",
    "    position_k = [new_x, new_y]\n",
    "    print(position_k, position_r)\n",
    "\n",
    "print(str(inv_D[position_k[0]]) + str(position_k[1]) + ' ' + str(inv_D[position_r[0]]) + str(position_r[1]))"
   ]
  },
  {
   "cell_type": "code",
   "execution_count": 228,
   "metadata": {},
   "outputs": [
    {
     "data": {
      "text/plain": [
       "[1, 0, 2, 0]"
      ]
     },
     "execution_count": 228,
     "metadata": {},
     "output_type": "execute_result"
    }
   ],
   "source": [
    "[1,0] +[2,0]"
   ]
  },
  {
   "cell_type": "code",
   "execution_count": 244,
   "metadata": {},
   "outputs": [
    {
     "data": {
      "text/plain": [
       "(1, 2)"
      ]
     },
     "execution_count": 244,
     "metadata": {},
     "output_type": "execute_result"
    }
   ],
   "source": [
    "a = (1,2)\n",
    "a"
   ]
  },
  {
   "cell_type": "code",
   "execution_count": 245,
   "metadata": {},
   "outputs": [
    {
     "data": {
      "text/plain": [
       "(3, 4)"
      ]
     },
     "execution_count": 245,
     "metadata": {},
     "output_type": "execute_result"
    }
   ],
   "source": [
    "a = (3,4)\n",
    "a"
   ]
  },
  {
   "cell_type": "markdown",
   "metadata": {},
   "source": [
    "올림픽은 참가에 의의가 있기에 공식적으로는 국가간 순위를 정하지 않는다. 그러나, 많은 사람들이 자신의 국가가 얼마나 잘 하는지에 관심이 많기 때문에 비공식적으로는 국가간 순위를 정하고 있다. 두 나라가 각각 얻은 금, 은, 동메달 수가 주어지면, 보통 다음 규칙을 따라 어느 나라가 더 잘했는지 결정한다.\n",
    "\n",
    "금메달 수가 더 많은 나라 \n",
    "금메달 수가 같으면, 은메달 수가 더 많은 나라\n",
    "금, 은메달 수가 모두 같으면, 동메달 수가 더 많은 나라 \n",
    "각 국가는 1부터 N 사이의 정수로 표현된다. 한 국가의 등수는 (자신보다 더 잘한 나라 수) + 1로 정의된다. 만약 두 나라가 금, 은, 동메달 수가 모두 같다면 두 나라의 등수는 같다. 예를 들어, 1번 국가가 금메달 1개, 은메달 1개를 얻었고, 2번 국가와 3번 국가가 모두 은메달 1개를 얻었으며, 4번 국가는 메달을 얻지 못하였다면, 1번 국가가 1등, 2번 국가와 3번 국가가 공동 2등, 4번 국가가 4등이 된다. 이 경우 3등은 없다. \n",
    "\n",
    "각 국가의 금, 은, 동메달 정보를 입력받아서, 어느 국가가 몇 등을 했는지 알려주는 프로그램을 작성하시오. "
   ]
  },
  {
   "cell_type": "code",
   "execution_count": 261,
   "metadata": {},
   "outputs": [
    {
     "name": "stdout",
     "output_type": "stream",
     "text": [
      "3\n"
     ]
    }
   ],
   "source": [
    "from collections import defaultdict\n",
    "\n",
    "dic = {}\n",
    "\n",
    "# nums, target = list(map(int, input.split()))\n",
    "nums, target = [4,2]\n",
    "data = [[1,3,0,0], [3,0,0,2],[4,0,2,0],[2,0,2,0]]\n",
    "for _ in range(nums) :\n",
    "    # name_id, gold, silver, bronze = list(map(int, input.split()))\n",
    "    name_id, gold, silver, bronze = data[_]\n",
    "    dic[name_id] = [gold, silver, bronze]\n",
    "sort_dic = {k:v for k, v in sorted(dic.items(), key = lambda x : x[1], reverse = True)}\n",
    "\n",
    "print(list(sort_dic.keys()).index(target)+1)"
   ]
  },
  {
   "cell_type": "code",
   "execution_count": 260,
   "metadata": {},
   "outputs": [
    {
     "data": {
      "text/plain": [
       "{1: [3, 0, 0], 4: [0, 2, 0], 2: [0, 2, 0], 3: [0, 0, 2]}"
      ]
     },
     "execution_count": 260,
     "metadata": {},
     "output_type": "execute_result"
    }
   ],
   "source": [
    "sort_dic"
   ]
  },
  {
   "cell_type": "code",
   "execution_count": 290,
   "metadata": {},
   "outputs": [
    {
     "name": "stdout",
     "output_type": "stream",
     "text": [
      "2\n"
     ]
    }
   ],
   "source": [
    "nums, target = [4,3]\n",
    "data = [[1,1,2,0], [2,0,1,0],[3,0,1,0],[4,0,0,1]]\n",
    "\n",
    "gold_list, silver_list, bronze_list = [0]*nums, [0]*nums , [0]*nums\n",
    "dic = {}\n",
    "place = 1\n",
    "for _ in range(nums) :\n",
    "    name_id, gold, silver, bronze = data[_]\n",
    "    gold_list[name_id-1] = gold\n",
    "    silver_list[name_id-1] = silver\n",
    "    bronze_list[name_id-1] = bronze\n",
    "full_records = [gold_list, silver_list, bronze_list]\n",
    "\n",
    "\n",
    "place = 1\n",
    "for record in full_records :\n",
    "    temp = 0\n",
    "    for country_id in dic :\n",
    "        record[country_id-1] = -1\n",
    "    cnt = record.count(max(record))\n",
    "    while cnt :\n",
    "        country_id = record.index(max(record)) + 1\n",
    "        record[country_id - 1] = -1\n",
    "        dic[country_id] = place\n",
    "        temp += 1\n",
    "        cnt -= 1\n",
    "    place += temp\n",
    "    \n",
    "print(dic[target])\n",
    "        "
   ]
  },
  {
   "cell_type": "code",
   "execution_count": 291,
   "metadata": {},
   "outputs": [
    {
     "data": {
      "text/plain": [
       "{1: 1, 2: 2, 3: 2, 4: 4}"
      ]
     },
     "execution_count": 291,
     "metadata": {},
     "output_type": "execute_result"
    }
   ],
   "source": [
    "dic"
   ]
  },
  {
   "cell_type": "code",
   "execution_count": 264,
   "metadata": {},
   "outputs": [
    {
     "data": {
      "text/plain": [
       "2"
      ]
     },
     "execution_count": 264,
     "metadata": {},
     "output_type": "execute_result"
    }
   ],
   "source": [
    "[1,2,3,3].index(3)"
   ]
  },
  {
   "cell_type": "code",
   "execution_count": 294,
   "metadata": {},
   "outputs": [
    {
     "name": "stdout",
     "output_type": "stream",
     "text": [
      "16\n"
     ]
    },
    {
     "data": {
      "text/plain": [
       "1"
      ]
     },
     "execution_count": 294,
     "metadata": {},
     "output_type": "execute_result"
    }
   ],
   "source": [
    "def solution(n,k) :\n",
    "    result = 0\n",
    "    \n",
    "    while True :\n",
    "        if n < k :\n",
    "            break\n",
    "        target = (n//k)*k\n",
    "        print( target)\n",
    "        result += result//k\n",
    "        n -= target\n",
    "        \n",
    "            \n",
    "    result += n\n",
    "    \n",
    "    return result\n",
    "\n",
    "solution(17,4)"
   ]
  },
  {
   "cell_type": "code",
   "execution_count": 304,
   "metadata": {},
   "outputs": [],
   "source": [
    "def solution(S) :\n",
    "    result = int(S[0])\n",
    "    \n",
    "    for i in range(1, len(S)) :\n",
    "        num = int(S[i])\n",
    "        if num <= 1 or result <= 1 :\n",
    "            result += num\n",
    "        else :\n",
    "            result *= num\n",
    "\n",
    "    return result"
   ]
  },
  {
   "cell_type": "code",
   "execution_count": 305,
   "metadata": {},
   "outputs": [
    {
     "data": {
      "text/plain": [
       "210"
      ]
     },
     "execution_count": 305,
     "metadata": {},
     "output_type": "execute_result"
    }
   ],
   "source": [
    "\n",
    "solution('567')"
   ]
  },
  {
   "cell_type": "code",
   "execution_count": 306,
   "metadata": {},
   "outputs": [],
   "source": [
    "def solution(N, X) :\n",
    "    num_group = 0\n",
    "\n",
    "    X.sort()\n",
    "    while X :\n",
    "        max_num = max(X)\n",
    "        if max_num <= len(X) :\n",
    "            for i in range(max_num) :\n",
    "                X.pop()\n",
    "            num_group += 1\n",
    "        else :\n",
    "            break\n",
    "         \n",
    "\n",
    "    return num_group"
   ]
  },
  {
   "cell_type": "code",
   "execution_count": 307,
   "metadata": {},
   "outputs": [
    {
     "data": {
      "text/plain": [
       "2"
      ]
     },
     "execution_count": 307,
     "metadata": {},
     "output_type": "execute_result"
    }
   ],
   "source": [
    "solution(5, [2,3,1,2,2])"
   ]
  },
  {
   "cell_type": "code",
   "execution_count": 310,
   "metadata": {},
   "outputs": [],
   "source": [
    "def solution(N, X) :\n",
    "    X.sort()\n",
    "    result = 0 # 그룹의 수\n",
    "    count = 0 # 현재 그룹에 포함된 모험가 수\n",
    "    for i in X :\n",
    "        count += 1\n",
    "        if count >= i :\n",
    "            result += 1\n",
    "            count = 0\n",
    "    return result\n"
   ]
  },
  {
   "cell_type": "code",
   "execution_count": 311,
   "metadata": {},
   "outputs": [
    {
     "data": {
      "text/plain": [
       "3"
      ]
     },
     "execution_count": 311,
     "metadata": {},
     "output_type": "execute_result"
    }
   ],
   "source": [
    "solution(10, [1,2,2,2,2,3,4,5])"
   ]
  },
  {
   "cell_type": "markdown",
   "metadata": {},
   "source": [
    "구현"
   ]
  },
  {
   "cell_type": "code",
   "execution_count": 317,
   "metadata": {},
   "outputs": [],
   "source": [
    "def solution(N, commands) :\n",
    "    pos = (1,1)\n",
    "    direction = {'R' : (0,1), 'L' : (0, -1) , 'U' : (-1, 0), 'D' : (1,0)}\n",
    "    for cmd in commands :\n",
    "        new_x = pos[0] + direction[cmd][0]\n",
    "        new_y = pos[1] + direction[cmd][1]\n",
    "        if 1 <= new_x <= N and 1 <= new_y <= N :\n",
    "            pos = (new_x, new_y)\n",
    "    return pos\n"
   ]
  },
  {
   "cell_type": "code",
   "execution_count": 318,
   "metadata": {},
   "outputs": [
    {
     "data": {
      "text/plain": [
       "(3, 4)"
      ]
     },
     "execution_count": 318,
     "metadata": {},
     "output_type": "execute_result"
    }
   ],
   "source": [
    "solution(5, ['R','R', 'R', 'U', 'D', 'D'])"
   ]
  },
  {
   "cell_type": "code",
   "execution_count": 319,
   "metadata": {},
   "outputs": [],
   "source": [
    "import datetime\n",
    "\n",
    "def solution(N) :\n",
    "    start_time = datetime.datetime.strptime('00:00:00', '%H:%M:%S')\n",
    "     \n",
    "    print(start_time)"
   ]
  },
  {
   "cell_type": "code",
   "execution_count": 320,
   "metadata": {},
   "outputs": [
    {
     "name": "stdout",
     "output_type": "stream",
     "text": [
      "1900-01-01 00:00:00\n"
     ]
    }
   ],
   "source": [
    "solution(5)"
   ]
  },
  {
   "cell_type": "code",
   "execution_count": 322,
   "metadata": {},
   "outputs": [],
   "source": [
    "def dfs(v) :\n",
    "    visited = []\n",
    "    stack = [v]\n",
    "    while stack :\n",
    "        new_v =\n",
    "         stack.pop()\n",
    "        if new_v not in visited :\n",
    "            visited.append(new_v)\n",
    "            for nv in graph[new_v] :\n",
    "                stack.append(nv)\n",
    "\n",
    "    return visited"
   ]
  },
  {
   "cell_type": "code",
   "execution_count": 350,
   "metadata": {},
   "outputs": [],
   "source": [
    "from collections import deque\n",
    "arr = [[0,0,1,1,0],[0,0,0,1,1], [1,1,1,1,1],[0,0,0,0,0]]\n",
    "D = ((1,0), (-1,0), (0,1), (0,-1))\n",
    "visited = [[False for _ in range(len(arr[_]))] for _ in range(len(arr))]\n",
    "def bfs(i, j) :\n",
    "    q = deque()\n",
    "    q.append((i,j))\n",
    "    while q :\n",
    "        pos_x, pos_y = q.popleft()\n",
    "        if not visited[pos_x][pos_y] :\n",
    "            visited[pos_x][pos_y] = True\n",
    "            for d in D :\n",
    "                new_x = pos_x + d[0]\n",
    "                new_y = pos_y + d[1]\n",
    "                if 0 > new_x or new_x > len(arr)-1 or 0 > new_y or new_y > len(arr[0]) -1 :\n",
    "                    continue\n",
    "                if visited[new_x][new_y] :\n",
    "                    continue\n",
    "                if arr[new_x][new_y] == 1 :\n",
    "                    continue\n",
    "                q.append((new_x,new_y))\n",
    "\n",
    "    return True\n",
    "    \n",
    "\n",
    "def solution(arr) :\n",
    "    \n",
    "    \n",
    "    num = 0\n",
    "    for i in range(len(arr)) :\n",
    "        for j in range(len(arr[0])) :\n",
    "            if bfs(i,j) == True :\n",
    "                num += 1\n",
    "\n",
    "    return num"
   ]
  },
  {
   "cell_type": "code",
   "execution_count": 351,
   "metadata": {},
   "outputs": [
    {
     "data": {
      "text/plain": [
       "20"
      ]
     },
     "execution_count": 351,
     "metadata": {},
     "output_type": "execute_result"
    }
   ],
   "source": [
    "solution([[0,0,1,1,0],[0,0,0,1,1], [1,1,1,1,1],[0,0,0,0,0]])"
   ]
  },
  {
   "cell_type": "code",
   "execution_count": 337,
   "metadata": {},
   "outputs": [
    {
     "data": {
      "text/plain": [
       "{'A': 1, 'B': 2, 'C': 3, 'D': 4, 'E': 5, 'F': 6, 'G': 7, 'H': 8}"
      ]
     },
     "execution_count": 337,
     "metadata": {},
     "output_type": "execute_result"
    }
   ],
   "source": [
    "D"
   ]
  },
  {
   "cell_type": "code",
   "execution_count": 356,
   "metadata": {},
   "outputs": [],
   "source": [
    "n = 4\n",
    "m = 5\n",
    "def dfs(x,y) :\n",
    "    if x <= -1 or x >= n or y <= -1 or y >= m :\n",
    "        return False\n",
    "    if graph[x][y] == 0 :\n",
    "        graph[x][y] = 1\n",
    "        dfs(x-1, y)\n",
    "        dfs(x+1, y)\n",
    "        dfs(x, y-1)\n",
    "        dfs(x, y+1)\n",
    "        return True\n",
    "    return False\n",
    "\n",
    "def solution(graph) :\n",
    "    result = 0\n",
    "    for i in range(len(arr)) :\n",
    "        for j in range(len(arr[i])) :\n",
    "            if dfs(i,j) == True :\n",
    "                result += 1\n",
    "\n",
    "    return result"
   ]
  },
  {
   "cell_type": "code",
   "execution_count": 358,
   "metadata": {},
   "outputs": [
    {
     "data": {
      "text/plain": [
       "3"
      ]
     },
     "execution_count": 358,
     "metadata": {},
     "output_type": "execute_result"
    }
   ],
   "source": [
    "graph = arr\n",
    "solution(arr)"
   ]
  },
  {
   "cell_type": "code",
   "execution_count": null,
   "metadata": {},
   "outputs": [],
   "source": [
    "def bfs(x,y) :\n",
    "    q = deque()\n",
    "    q.append((x,y))\n",
    "\n",
    "    while q :\n",
    "        x, y = q.popleft()\n",
    "        for i in range(4) :\n",
    "            nx = x + dx[i]\n",
    "            ny = y + dy[i]\n",
    "\n",
    "            if nx < 0 or nx >= n or ny < 0 or ny >= m :\n",
    "                continue\n",
    "            if graph[nx][ny] == 0 :\n",
    "                continue\n",
    "            if graph[nx][ny] == 1 :\n",
    "                graph[nx][ny] = graph[x][y] + 1\n",
    "                q.append((nx,ny))\n",
    "    return graph[n-1][m-1]"
   ]
  },
  {
   "cell_type": "code",
   "execution_count": 366,
   "metadata": {},
   "outputs": [
    {
     "name": "stdout",
     "output_type": "stream",
     "text": [
      "h\n",
      "h\n",
      "h\n",
      "h\n"
     ]
    }
   ],
   "source": [
    "for i in range(4) :\n",
    "    bit = 1 <<i\n",
    "    if bit :\n",
    "        print( 'h')\n"
   ]
  },
  {
   "cell_type": "code",
   "execution_count": 373,
   "metadata": {},
   "outputs": [
    {
     "name": "stdout",
     "output_type": "stream",
     "text": [
      "1\n",
      "6\n"
     ]
    }
   ],
   "source": [
    "# 펭귄문제\n",
    "# 세마리의 펭귄이 붙기 위해서 필요한 최소 이동횟수와 최대 이동횟수를 구해라.\n",
    "# 양쪽 끝의 펭귄들만 이동이 가능하고, 끝자리의 바람을 피하기 위한 이동으로, 끝에서 끝으로는 이동하지 않고, 끝에서 중간으로만 이동한다.\n",
    "\n",
    "pos = [4,5,12]\n",
    "\n",
    "# 최소횟수는?\n",
    "# 펭귄들 사이의 거리\n",
    "dist1 = pos[1] - pos[0]\n",
    "dist2 = pos[2] - pos[1]\n",
    "\n",
    "# 두 펭귄이 이미 붙어 있을 경우\n",
    "if dist1 == 1 or dist2 == 1 :\n",
    "    # 이미 세 펭귄이 다 붙어있을 경우\n",
    "    if dist1 == dist2 :\n",
    "        min_cnt = 0\n",
    "    else :\n",
    "        min_cnt = 1\n",
    "else :\n",
    "    # 각각 멀리 있는 경우의 최소 이동은 항상 2이다. 가운데 펭귄보다 +2 또는 -2로 위치 후, 맞은편 펭귄이 그 사이로 이동하는 것\n",
    "    min_cnt = 2\n",
    "\n",
    "\n",
    "# 최대 이동횟수는?\n",
    "max_cnt = 0\n",
    "while True :\n",
    "    # 양끝에서 중간 펭귄까지 거리를 구함\n",
    "    dist1 = pos[1] - pos[0]\n",
    "    dist2 = pos[2] - pos[1]\n",
    "    if dist1 >= dist2 : # 길이가 더 가까운쪽 펭귄이 간격이 더 넓은 간격으로 이동. 이때 간격을 최대화 하기 위해서 이동한쪽 끝의 펭귄에 최대한 붙음\n",
    "        pos = [pos[0], pos[0]+1, pos[1]]\n",
    "    elif dist1 < dist2 :\n",
    "        pos = [pos[1], pos[2]-1, pos[2]]\n",
    "    if dist1 == dist2 == 1 :\n",
    "        break\n",
    "    max_cnt += 1\n",
    "print(min_cnt)\n",
    "print(max_cnt)\n",
    "\n",
    "\n",
    "\n",
    "\n"
   ]
  },
  {
   "cell_type": "markdown",
   "metadata": {},
   "source": [
    "# 2022 새로운 마음으로"
   ]
  },
  {
   "cell_type": "markdown",
   "metadata": {},
   "source": [
    "### 브루트포스"
   ]
  },
  {
   "cell_type": "code",
   "execution_count": 14,
   "metadata": {},
   "outputs": [],
   "source": [
    "# https://www.acmicpc.net/problem/2798\n",
    "import sys\n",
    "\n",
    "# n, m = map(int, sys.stdin.readline().split())\n",
    "n = 5\n",
    "m = 500\n",
    "# ls = map(int, sys.stdin.readline().split())\n",
    "ls = [93, 181, 245, 214, 315, 36, 185, 138, 216, 295]\n",
    "\n",
    "def close_num(ls, m) :\n",
    "    res = 0\n",
    "    for i in range(len(ls)-2) :\n",
    "        for j in range(i+1, len(ls)-1) :\n",
    "            for k in range(j+1, len(ls)) :\n",
    "                sum_num = ls[i] + ls[j] + ls[k]\n",
    "                if sum_num <= m :\n",
    "                    res = max(sum_num, res)\n",
    "    return res"
   ]
  },
  {
   "cell_type": "code",
   "execution_count": 38,
   "metadata": {},
   "outputs": [],
   "source": [
    "# https://www.acmicpc.net/problem/2231\n",
    "# 어떤 자연수 M의 분해합이 N일 때, N을 M의 생성자라고 한다.\n",
    "\n",
    "def find_min_generator(N) :\n",
    "    '''\n",
    "     M = 'abc...' N = 'abc...'+ 'a' + 'b' + 'c' + '...'  \n",
    "    '''\n",
    "    num = len(str(N))\n",
    "    output = 0\n",
    "    ls = [0]*num\n",
    "    while output != N :\n",
    "        output = 0\n",
    "        \n",
    "        for i in range(len(ls)) :\n",
    "            output += sum(ls)\n",
    "        output += int(''.join(map(str, ls)))\n",
    "        \n",
    "    return ls\n",
    "\n",
    "'''시도 방법 :\n",
    "output 변수가 N과 같아질 때까지, [0]으로 초기화된 변수들의 합과 그 총 합을 더함. 자릿수마다 여러번 증가시켜야하는데, 어떻게 해야할지 몰라서 실패.\n",
    "실패 원인 : 자릿수마다 각자 증가시키려고 했던 것이 문제. N의 생성자를 찾기 위해서 살펴봐야하는 range를 지정하고 1씩 증가시키는 게 답이였음.\n",
    "'''\n",
    "\n",
    "### 정답\n",
    "\n",
    "def find_min_generator(N) :\n",
    "    \n",
    "    for i in range(1, N+1) : # N의 생성자를 찾기 위해서 maximum 살펴봐야하는 값은 1부터 N까지이다.\n",
    "        output = 0\n",
    "        A = list(map(int, str(i)))\n",
    "        output += sum(A) + i\n",
    "        if output == N :\n",
    "            return i\n",
    "        if i == N :\n",
    "            return 0\n"
   ]
  },
  {
   "cell_type": "code",
   "execution_count": 15,
   "metadata": {},
   "outputs": [
    {
     "data": {
      "text/plain": [
       "[2, 2, 3, 2, 1]"
      ]
     },
     "execution_count": 15,
     "metadata": {},
     "output_type": "execute_result"
    }
   ],
   "source": [
    "# https://www.acmicpc.net/problem/7568\n",
    "# N = map(int, input())\n",
    "# infos = [list(map(int, input().split())) for _ in range(N)]\n",
    "infos = [(55,185), (58, 183), (88, 186), (60, 175), (46,155)]\n",
    "\n",
    "score = [len(infos)]*len(infos)\n",
    "for i in range(len(infos)-1) :\n",
    "    for j in range(i, len(infos)) :\n",
    "        if infos[i][0] > infos[j][0] and infos[i][1] > infos[j][1] :\n",
    "            score[i] -= 1\n",
    "        elif infos[i][0] < infos[j][0] and infos[i][1] < infos[j][1] :\n",
    "            score[j] = 1\n",
    "            \n",
    "\n",
    "answer = []\n",
    "\n",
    "for s in score :   \n",
    "    answer.append(sorted(set(score), reverse = True).index(s) + 1)\n",
    "answer\n",
    "\n",
    "# 등수를 매기기 위한 점수까지는 구했지만, 점수에서 등수로 어떻게 변환해야할지 몰라서 실패.\n",
    "# 덩치를 비교할 수 없을 경우, 등수값이 유지되다가 다음 등수값에 비교할 수 없는 경우의 수만큼 증가하는 걸 어떻게 표현해야하는지. "
   ]
  },
  {
   "cell_type": "code",
   "execution_count": 16,
   "metadata": {},
   "outputs": [
    {
     "name": "stdout",
     "output_type": "stream",
     "text": [
      "2 2 1 2 5 "
     ]
    }
   ],
   "source": [
    "# 정답\n",
    "for i in infos :\n",
    "    rank = 1\n",
    "    for j in infos :\n",
    "        if i[0] < j[0] and i[1] < j[1] :\n",
    "            rank += 1\n",
    "    print(rank, end = ' ')\n",
    "\n",
    "# 어렵게 생각하지 말자. 등수는 자기 앞에 몇명이 있는지의 표현이다."
   ]
  },
  {
   "cell_type": "code",
   "execution_count": null,
   "metadata": {},
   "outputs": [],
   "source": []
  }
 ],
 "metadata": {
  "interpreter": {
   "hash": "aee8b7b246df8f9039afb4144a1f6fd8d2ca17a180786b69acc140d282b71a49"
  },
  "kernelspec": {
   "display_name": "Python 3.10.1 64-bit",
   "language": "python",
   "name": "python3"
  },
  "language_info": {
   "codemirror_mode": {
    "name": "ipython",
    "version": 3
   },
   "file_extension": ".py",
   "mimetype": "text/x-python",
   "name": "python",
   "nbconvert_exporter": "python",
   "pygments_lexer": "ipython3",
   "version": "3.10.1"
  },
  "orig_nbformat": 4
 },
 "nbformat": 4,
 "nbformat_minor": 2
}
